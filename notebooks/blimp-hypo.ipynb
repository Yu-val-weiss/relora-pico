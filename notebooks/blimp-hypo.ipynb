{
 "cells": [
  {
   "cell_type": "code",
   "execution_count": 1,
   "id": "ef8b7440",
   "metadata": {},
   "outputs": [],
   "source": [
    "import json\n",
    "from pathlib import Path\n",
    "\n",
    "import numpy as np\n",
    "import pandas as pd\n",
    "import statsmodels.stats.proportion as prp\n"
   ]
  },
  {
   "cell_type": "code",
   "execution_count": 2,
   "id": "9c9b74de",
   "metadata": {},
   "outputs": [],
   "source": [
    "def load_blimp_data(path: Path) -> dict:\n",
    "    with path.open() as f:\n",
    "        data = json.load(f)\n",
    "    if \"blimp\" in data:\n",
    "        data = data[\"blimp\"]\n",
    "    return data\n",
    "\n",
    "\n",
    "def get_uids(data: dict):\n",
    "    return np.array(list(data[\"by_uid\"].values()))"
   ]
  },
  {
   "cell_type": "code",
   "execution_count": 3,
   "id": "d6891998",
   "metadata": {},
   "outputs": [],
   "source": [
    "# Load all BLiMP data -- by phenomenon\n",
    "\n",
    "STEP = 20_000\n",
    "\n",
    "# models = [rf\"\\texttt{{pico-{t}}}\" for t in (\"decoder\", \"relora\")]\n",
    "MODELS = [\"decoder\", \"relora\"]\n",
    "SCALES = [\"tiny\", \"small\"]\n",
    "\n",
    "\n",
    "def _get_data():\n",
    "    for scale in SCALES:\n",
    "        baseline_data = load_blimp_data(Path(f\"blimp_results_{scale}/step_{STEP}.json\"))\n",
    "        relora_data = load_blimp_data(Path(f\"relora-{scale}-eval/step_{STEP}.json\"))\n",
    "\n",
    "        for mod, data in zip(MODELS, (baseline_data, relora_data)):\n",
    "            for uid, val in data[\"by_uid\"].items():\n",
    "                yield (scale, mod, uid, uid, val)\n",
    "\n",
    "\n",
    "data = pd.DataFrame(_get_data(), columns=[\"Scale\", \"Model\", \"Phenomenon\", \"UID\", \"Score\"])"
   ]
  },
  {
   "cell_type": "code",
   "execution_count": 4,
   "id": "e4599d5e",
   "metadata": {},
   "outputs": [
    {
     "data": {
      "text/html": [
       "<div>\n",
       "<style scoped>\n",
       "    .dataframe tbody tr th:only-of-type {\n",
       "        vertical-align: middle;\n",
       "    }\n",
       "\n",
       "    .dataframe tbody tr th {\n",
       "        vertical-align: top;\n",
       "    }\n",
       "\n",
       "    .dataframe thead th {\n",
       "        text-align: right;\n",
       "    }\n",
       "</style>\n",
       "<table border=\"1\" class=\"dataframe\">\n",
       "  <thead>\n",
       "    <tr style=\"text-align: right;\">\n",
       "      <th></th>\n",
       "      <th>Scale</th>\n",
       "      <th>Model</th>\n",
       "      <th>prop</th>\n",
       "      <th>nobs</th>\n",
       "    </tr>\n",
       "  </thead>\n",
       "  <tbody>\n",
       "    <tr>\n",
       "      <th>0</th>\n",
       "      <td>small</td>\n",
       "      <td>decoder</td>\n",
       "      <td>0.701448</td>\n",
       "      <td>67</td>\n",
       "    </tr>\n",
       "    <tr>\n",
       "      <th>1</th>\n",
       "      <td>small</td>\n",
       "      <td>relora</td>\n",
       "      <td>0.630791</td>\n",
       "      <td>67</td>\n",
       "    </tr>\n",
       "    <tr>\n",
       "      <th>2</th>\n",
       "      <td>tiny</td>\n",
       "      <td>decoder</td>\n",
       "      <td>0.650388</td>\n",
       "      <td>67</td>\n",
       "    </tr>\n",
       "    <tr>\n",
       "      <th>3</th>\n",
       "      <td>tiny</td>\n",
       "      <td>relora</td>\n",
       "      <td>0.623642</td>\n",
       "      <td>67</td>\n",
       "    </tr>\n",
       "  </tbody>\n",
       "</table>\n",
       "</div>"
      ],
      "text/plain": [
       "   Scale    Model      prop  nobs\n",
       "0  small  decoder  0.701448    67\n",
       "1  small   relora  0.630791    67\n",
       "2   tiny  decoder  0.650388    67\n",
       "3   tiny   relora  0.623642    67"
      ]
     },
     "execution_count": 4,
     "metadata": {},
     "output_type": "execute_result"
    }
   ],
   "source": [
    "grouped = data.groupby([\"Scale\", \"Model\"]).agg(prop=(\"Score\", \"mean\"), nobs=(\"Score\", \"size\")).reset_index()\n",
    "grouped"
   ]
  },
  {
   "cell_type": "code",
   "execution_count": 19,
   "id": "46a780ee",
   "metadata": {},
   "outputs": [
    {
     "name": "stdout",
     "output_type": "stream",
     "text": [
      "tiny: 1.2123554040626134e-24\n",
      "small: 7.43060911688948e-166\n"
     ]
    }
   ],
   "source": [
    "for scale in SCALES:\n",
    "    counts = []\n",
    "    nobs = []\n",
    "    for model in MODELS:\n",
    "        row = grouped[(grouped[\"Scale\"] == scale) & (grouped[\"Model\"] == model)]\n",
    "        n = float(row[\"nobs\"].iloc[0]) * 1000\n",
    "        counts.append(float(row[\"prop\"].iloc[0]) * n)\n",
    "        nobs.append(n)\n",
    "    stat, pval = prp.proportions_ztest(counts, nobs, alternative=\"larger\")\n",
    "    print(f\"{scale}: {pval}\")"
   ]
  }
 ],
 "metadata": {
  "kernelspec": {
   "display_name": "relora-pico-py3.12",
   "language": "python",
   "name": "python3"
  },
  "language_info": {
   "codemirror_mode": {
    "name": "ipython",
    "version": 3
   },
   "file_extension": ".py",
   "mimetype": "text/x-python",
   "name": "python",
   "nbconvert_exporter": "python",
   "pygments_lexer": "ipython3",
   "version": "3.12.10"
  }
 },
 "nbformat": 4,
 "nbformat_minor": 5
}
