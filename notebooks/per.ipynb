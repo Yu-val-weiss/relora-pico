{
    "cells": [
        {
            "cell_type": "code",
            "execution_count": 2,
            "id": "71e7b231",
            "metadata": {},
            "outputs": [
                {
                    "name": "stderr",
                    "output_type": "stream",
                    "text": [
                        "\u001b[34m\u001b[1mwandb\u001b[0m: Using wandb-core as the SDK backend.  Please refer to https://wandb.me/wandb-core for more information.\n",
                        "\u001b[34m\u001b[1mwandb\u001b[0m: Currently logged in as: \u001b[33myw580\u001b[0m (\u001b[33mpico-lm\u001b[0m). Use \u001b[1m`wandb login --relogin`\u001b[0m to force relogin\n"
                    ]
                }
            ],
            "source": [
                "from itertools import product\n",
                "\n",
                "import matplotlib as mpl\n",
                "import matplotlib.pyplot as plt\n",
                "import numpy as np\n",
                "import pandas as pd\n",
                "import seaborn as sns\n",
                "\n",
                "import wandb\n",
                "\n",
                "rc_fonts = {\n",
                "    \"text.usetex\": True,\n",
                "    \"text.latex.preamble\": \"\\n\".join(\n",
                "        [r\"\\usepackage{libertine}\", r\"\\usepackage[libertine]{newtxmath}\", r\"\\usepackage{inconsolata}\"]\n",
                "    ),\n",
                "}\n",
                "mpl.rcParams.update(rc_fonts)\n",
                "\n",
                "\n",
                "def format_ticks(x, pos):\n",
                "    return str(int(x / 1000))\n",
                "\n",
                "\n",
                "wandb.login()\n",
                "api = wandb.Api()"
            ]
        },
        {
            "cell_type": "code",
            "execution_count": null,
            "id": "3122f2bb",
            "metadata": {},
            "outputs": [],
            "source": [
                "tiny_lora = api.run(\"pico-lm/pico-relora/ixdq4sof\")\n",
                "small_lora = api.run(\"pico-lm/pico-relora/a8nvp3mi\")\n",
                "tiny_base = api.run(\"pico-lm/pico-relora/e8rwqdwk\")\n",
                "small_base = api.run(\"pico-lm/pico-relora/evrk6fbj\")"
            ]
        },
        {
            "cell_type": "code",
            "execution_count": null,
            "id": "0d247f9f",
            "metadata": {},
            "outputs": [],
            "source": [
                "data = {\n",
                "    \"lora\": {\n",
                "        \"tiny\": pd.DataFrame(tiny_lora.scan_history())\n",
                "        .replace(\"NaN\", np.nan, inplace=False)\n",
                "        .infer_objects(copy=False),\n",
                "        \"small\": pd.DataFrame(small_lora.scan_history())\n",
                "        .replace(\"NaN\", np.nan, inplace=False)\n",
                "        .infer_objects(copy=False),\n",
                "    },\n",
                "    \"base\": {\n",
                "        \"tiny\": pd.DataFrame(tiny_base.scan_history())\n",
                "        .replace(\"NaN\", np.nan, inplace=False)\n",
                "        .infer_objects(copy=False),\n",
                "        \"small\": pd.DataFrame(small_base.scan_history())\n",
                "        .replace(\"NaN\", np.nan, inplace=False)\n",
                "        .infer_objects(copy=False),\n",
                "    },\n",
                "}"
            ]
        },
        {
            "cell_type": "code",
            "execution_count": null,
            "id": "f6836ed1",
            "metadata": {},
            "outputs": [],
            "source": [
                "def get_across_ranges(\n",
                "    df: pd.DataFrame, metric_name: str, step_mod: int = 1, step_mod_offset: int = 0, *ranges\n",
                "):\n",
                "    if not ranges:\n",
                "        ranges = (range(12),)\n",
                "    combos = product(*ranges)\n",
                "    df = df.drop_duplicates(subset=[\"_step\"], inplace=False)\n",
                "    mask = df[\"_step\"] % step_mod == step_mod_offset\n",
                "    df = df[mask]\n",
                "    x = [df[metric_name.format(*combo)].replace(\"NaN\", np.nan).to_numpy() for combo in combos]\n",
                "    return np.column_stack(x)"
            ]
        },
        {
            "cell_type": "code",
            "execution_count": null,
            "id": "e7d34181",
            "metadata": {},
            "outputs": [],
            "source": [
                "STEP_MOD = 2_000"
            ]
        },
        {
            "cell_type": "code",
            "execution_count": null,
            "id": "8d15bef7",
            "metadata": {},
            "outputs": [],
            "source": [
                "def _get_per_data():\n",
                "    for mod in (\"swiglu.w_2\", \"ov_circuit\"):\n",
                "        for t in data:\n",
                "            for s in data[t]:\n",
                "                metr_str = (\n",
                "                    \"per_val/_forward_module.module.layers.{}\"\n",
                "                    + f\".{mod}{'.base' if t == 'lora' else ''}.weights\"\n",
                "                )\n",
                "                val = get_across_ranges(\n",
                "                    data[t][s], metr_str, step_mod=2_000, step_mod_offset=0 if t == \"base\" else 100\n",
                "                )\n",
                "                for ckp_id, ckp in enumerate(val):\n",
                "                    for lay_id, layer_val in enumerate(ckp):\n",
                "                        yield (\n",
                "                            r\"OV Circuit\" if \"ov\" in mod else r\"SwiGLU $W_2$\",\n",
                "                            rf\"\\texttt{{pico-{'decoder' if t == 'base' else 'relora'}}}\",\n",
                "                            s,\n",
                "                            int(ckp_id * 2),\n",
                "                            lay_id,\n",
                "                            layer_val,\n",
                "                        )\n",
                "\n",
                "\n",
                "per_data = pd.DataFrame(\n",
                "    _get_per_data(),\n",
                "    columns=[\"Component\", \"Model\", \"Scale\", \"Step\", \"Layer\", \"PER\"],\n",
                ")"
            ]
        },
        {
            "cell_type": "code",
            "execution_count": null,
            "id": "c4af35b3",
            "metadata": {},
            "outputs": [],
            "source": [
                "TICK_LABEL_SIZE = 14\n",
                "AXIS_LABEL_SIZE = 16\n",
                "SUP_LABEL_SIZE = 18"
            ]
        },
        {
            "cell_type": "code",
            "execution_count": null,
            "id": "afb27bb1",
            "metadata": {},
            "outputs": [],
            "source": [
                "colors = [\"#1E88E5\", \"#FF992F\"]\n",
                "models = sorted(per_data[\"Model\"].unique().tolist())\n",
                "palette = dict(zip(models, colors))\n",
                "\n",
                "dodge = 0.4\n",
                "size = 8\n",
                "font_scale = 3\n",
                "\n",
                "sns.set_theme(font_scale=font_scale, rc={\"axes.grid\": \"True\", \"axes.grid.which\": \"both\"})\n",
                "\n",
                "g = sns.FacetGrid(\n",
                "    data=per_data,\n",
                "    col=\"Scale\",\n",
                "    row=\"Component\",\n",
                "    height=4,\n",
                "    aspect=3,\n",
                "    sharey=True,\n",
                "    sharex=True,\n",
                "    margin_titles=False,\n",
                ")\n",
                "\n",
                "g.set_titles(template=r\"Component = {row_name} -- Scale = \\texttt{{{col_name}}}\")\n",
                "\n",
                "\n",
                "g.map_dataframe(sns.lineplot, x=\"Step\", y=\"PER\", hue=\"Model\", palette=palette, markers=[\"s\", \"o\"])\n",
                "\n",
                "g.set_axis_labels(\"Checkpoint step / 1000\", \"PER\")\n",
                "\n",
                "for idx, ax in enumerate(g.axes.flat):\n",
                "    steps = per_data[\"Step\"].unique()\n",
                "    ax.set_xticks(steps)\n",
                "    if idx == 2:\n",
                "        ax.legend(bbox_to_anchor=(0, 0), loc=\"lower left\", ncols=2)\n",
                "\n",
                "plt.savefig(\"../graphs/per.pdf\", bbox_inches=\"tight\")\n",
                "plt.show()"
            ]
        },
        {
            "cell_type": "markdown",
            "id": "68538767",
            "metadata": {},
            "source": [
                "# OV circuit fst vs last"
            ]
        },
        {
            "cell_type": "code",
            "execution_count": null,
            "id": "0dc1e375",
            "metadata": {},
            "outputs": [],
            "source": [
                "per_split = per_data.copy()\n",
                "per_split[\"Split\"] = np.where(per_data[\"Layer\"] > 5, \"Last Six\", \"First Six\")\n",
                "\n",
                "\n",
                "def sjoin(*args):\n",
                "    return f\"{args[0].Component} ({args[0].Split})\"\n",
                "\n",
                "\n",
                "per_split[\"Component\"] = per_split[[\"Component\", \"Split\"]].astype(str).agg(sjoin, axis=1)"
            ]
        },
        {
            "cell_type": "code",
            "execution_count": null,
            "id": "ff18c61e",
            "metadata": {},
            "outputs": [],
            "source": [
                "colors = [\"#1E88E5\", \"#FF992F\"]\n",
                "models = sorted(per_split[\"Model\"].unique().tolist())\n",
                "palette = dict(zip(models, colors))\n",
                "\n",
                "dodge = 0.4\n",
                "size = 8\n",
                "font_scale = 3\n",
                "\n",
                "sns.set_theme(font_scale=font_scale, rc={\"axes.grid\": \"True\", \"axes.grid.which\": \"both\"})\n",
                "\n",
                "g = sns.FacetGrid(\n",
                "    data=per_split,\n",
                "    col=\"Scale\",\n",
                "    row=\"Component\",\n",
                "    height=3,\n",
                "    aspect=4,\n",
                "    sharey=True,\n",
                "    sharex=True,\n",
                "    margin_titles=False,\n",
                ")\n",
                "\n",
                "g.set_titles(template=r\"Component = {row_name} -- Scale = \\texttt{{{col_name}}}\")\n",
                "\n",
                "\n",
                "g.map_dataframe(sns.lineplot, x=\"Step\", y=\"PER\", hue=\"Model\", palette=palette, markers=[\"s\", \"o\"])\n",
                "\n",
                "g.set_axis_labels(\"Checkpoint step / 1000\", \"PER\")\n",
                "\n",
                "for idx, ax in enumerate(g.axes.flat):\n",
                "    steps = per_split[\"Step\"].unique()\n",
                "    ax.set_xticks(steps)\n",
                "    if idx == 6:\n",
                "        ax.legend(bbox_to_anchor=(0, 0), loc=\"lower left\", ncols=2)\n",
                "\n",
                "plt.savefig(\"../graphs/per-fst-lst.pdf\", bbox_inches=\"tight\")\n",
                "plt.show()"
            ]
        }
    ],
    "metadata": {
        "kernelspec": {
            "display_name": ".venv",
            "language": "python",
            "name": "python3"
        },
        "language_info": {
            "codemirror_mode": {
                "name": "ipython",
                "version": 3
            },
            "file_extension": ".py",
            "mimetype": "text/x-python",
            "name": "python",
            "nbconvert_exporter": "python",
            "pygments_lexer": "ipython3",
            "version": "3.12.10"
        }
    },
    "nbformat": 4,
    "nbformat_minor": 5
}
