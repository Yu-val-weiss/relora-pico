{
 "cells": [
  {
   "cell_type": "code",
   "execution_count": 1,
   "id": "a9a6372d",
   "metadata": {},
   "outputs": [
    {
     "name": "stderr",
     "output_type": "stream",
     "text": [
      "\u001b[34m\u001b[1mwandb\u001b[0m: Using wandb-core as the SDK backend.  Please refer to https://wandb.me/wandb-core for more information.\n",
      "\u001b[34m\u001b[1mwandb\u001b[0m: Currently logged in as: \u001b[33myw580\u001b[0m (\u001b[33mpico-lm\u001b[0m). Use \u001b[1m`wandb login --relogin`\u001b[0m to force relogin\n"
     ]
    },
    {
     "data": {
      "text/plain": [
       "True"
      ]
     },
     "execution_count": 1,
     "metadata": {},
     "output_type": "execute_result"
    }
   ],
   "source": [
    "import pandas as pd\n",
    "\n",
    "import wandb\n",
    "\n",
    "wandb.login()"
   ]
  },
  {
   "cell_type": "code",
   "execution_count": 2,
   "id": "5a32c0a7",
   "metadata": {},
   "outputs": [],
   "source": [
    "TINY_BASE = \"pico-lm/pico-decoder/lne20rc1\"\n",
    "SMALL_BASE = \"pico-lm/pico-decoder/kzcalg17\"\n",
    "\n",
    "TINY_RELORA = \"pico-lm/pico-relora/6vhmv4aj\"\n",
    "SMALL_RELORA = \"pico-lm/pico-relora/5urfvs2j\""
   ]
  },
  {
   "cell_type": "code",
   "execution_count": 3,
   "id": "9f77e82c",
   "metadata": {},
   "outputs": [],
   "source": [
    "api = wandb.Api()\n",
    "\n",
    "baseline_tiny = api.run(TINY_BASE)\n",
    "relora_tiny = api.run(TINY_RELORA)\n",
    "baseline_small = api.run(SMALL_BASE)\n",
    "relora_small = api.run(SMALL_RELORA)"
   ]
  },
  {
   "cell_type": "code",
   "execution_count": 4,
   "id": "4002c7de",
   "metadata": {},
   "outputs": [],
   "source": [
    "bt_history = pd.DataFrame(baseline_tiny.scan_history())\n",
    "rt_history = pd.DataFrame(relora_tiny.scan_history())\n",
    "bs_history = pd.DataFrame(baseline_small.scan_history())\n",
    "rs_history = pd.DataFrame(relora_small.scan_history())"
   ]
  },
  {
   "cell_type": "code",
   "execution_count": 9,
   "id": "b96cf895",
   "metadata": {},
   "outputs": [
    {
     "name": "stdout",
     "output_type": "stream",
     "text": [
      "Runtime: 52.96 hours = 847.37 GPU.\n",
      "Runtime: 61.29 hours = 980.56 GPU.\n",
      "Runtime: 183.17 hours = 732.70 GPU.\n",
      "Step 20000 not found in run history\n"
     ]
    }
   ],
   "source": [
    "step = 20_000\n",
    "for gpus, history in [(16, bt_history), (16, bs_history), (4, rt_history), (4, rs_history)]:\n",
    "    step_row = history[history[\"trainer/global_step\"] == step]\n",
    "\n",
    "    if not step_row.empty:\n",
    "        # '_runtime' is seconds since start\n",
    "        runtime_up_to_step = step_row[\"_runtime\"].values[0] / 3600\n",
    "        gpu_hours = runtime_up_to_step * gpus\n",
    "        print(f\"Runtime: {runtime_up_to_step:.2f} hours = {gpu_hours:.2f} GPU.\")\n",
    "    else:\n",
    "        print(f\"Step {step} not found in run history\")"
   ]
  }
 ],
 "metadata": {
  "kernelspec": {
   "display_name": ".venv",
   "language": "python",
   "name": "python3"
  },
  "language_info": {
   "codemirror_mode": {
    "name": "ipython",
    "version": 3
   },
   "file_extension": ".py",
   "mimetype": "text/x-python",
   "name": "python",
   "nbconvert_exporter": "python",
   "pygments_lexer": "ipython3",
   "version": "3.12.10"
  }
 },
 "nbformat": 4,
 "nbformat_minor": 5
}
