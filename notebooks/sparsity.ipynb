{
 "cells": [
  {
   "cell_type": "code",
   "execution_count": 45,
   "id": "71fc952f",
   "metadata": {},
   "outputs": [],
   "source": [
    "from itertools import product\n",
    "\n",
    "import numpy as np\n",
    "import pandas as pd\n",
    "from scipy import stats as stats\n",
    "\n",
    "import wandb\n",
    "\n",
    "wandb.login()\n",
    "api = wandb.Api()"
   ]
  },
  {
   "cell_type": "code",
   "execution_count": 4,
   "id": "3786b997",
   "metadata": {},
   "outputs": [],
   "source": [
    "tiny_lora_weights = pd.DataFrame(api.run(\"pico-lm/pico-relora/ixdq4sof\").scan_history())\n",
    "small_lora_weights = pd.DataFrame(api.run(\"pico-lm/pico-relora/a8nvp3mi\").scan_history())\n",
    "baseline_tiny_weights = pd.DataFrame(api.run(\"pico-lm/pico-relora/e8rwqdwk\").scan_history())\n",
    "baseline_small_weights = pd.DataFrame(api.run(\"pico-lm/pico-relora/evrk6fbj\").scan_history())"
   ]
  },
  {
   "cell_type": "code",
   "execution_count": 35,
   "id": "7db3cf35",
   "metadata": {},
   "outputs": [],
   "source": [
    "def get_across_ranges(df: pd.DataFrame, metric_name: str, step_mod: int = 1, *ranges):\n",
    "    if not ranges:\n",
    "        ranges = (range(12),)\n",
    "    combos = product(*ranges)\n",
    "    mask = df[\"_step\"] % step_mod == 0\n",
    "    df = df[mask]\n",
    "    x = [df[metric_name.format(*combo)].replace(\"NaN\", np.nan).to_numpy() for combo in combos]\n",
    "    return np.column_stack(x)"
   ]
  },
  {
   "cell_type": "markdown",
   "id": "3ebc51a7",
   "metadata": {},
   "source": [
    "# Sparsity"
   ]
  },
  {
   "cell_type": "code",
   "execution_count": null,
   "id": "314af664",
   "metadata": {},
   "outputs": [
    {
     "name": "stdout",
     "output_type": "stream",
     "text": [
      "Hoyer @ Tiny: r = 0.81818\n",
      "Hoyer @ Small: r = 0.86014\n",
      "Gini @ Tiny: r = 0.70878\n",
      "Gini @ Small: r = 0.89123\n"
     ]
    }
   ],
   "source": [
    "for met in (\"hoyer\", \"gini\"):\n",
    "    for scale in (\"tiny\", \"small\"):\n",
    "        metrstr = f\"{met}_val/_forward_module.module.layers.{{}}.ov_circuit.base.weights\"\n",
    "        x = get_across_ranges(\n",
    "            small_lora_weights if scale == \"small\" else tiny_lora_weights, metrstr, step_mod=20_000\n",
    "        ).T\n",
    "\n",
    "        r = stats.spearmanr(x[:, 1], np.arange(12)).statistic\n",
    "        print(f\"{met.title()} @ {scale.title()}: r = {r:.5f}\")"
   ]
  },
  {
   "cell_type": "markdown",
   "id": "4f8fef15",
   "metadata": {},
   "source": [
    "# Step smoothness"
   ]
  },
  {
   "cell_type": "code",
   "execution_count": null,
   "id": "b4c7b54d",
   "metadata": {},
   "outputs": [],
   "source": [
    "def evenness_metric(x: np.ndarray):\n",
    "    diffs = np.diff(x, n=1, axis=-1)\n",
    "    diffs_sigma = np.std(diffs, axis=-1)\n",
    "    diffs_mu = np.mean(np.abs(diffs), axis=-1)\n",
    "\n",
    "    variation_coeff = diffs_sigma / (diffs_mu + 1e-10)\n",
    "\n",
    "    evenness = np.exp(-variation_coeff)\n",
    "\n",
    "    return evenness"
   ]
  },
  {
   "cell_type": "code",
   "execution_count": 645,
   "id": "8170aad4",
   "metadata": {},
   "outputs": [
    {
     "name": "stdout",
     "output_type": "stream",
     "text": [
      "Hoyer @ Tiny:\n",
      "even r = 0.88811; inc r = 0.81818, fin r = 0.81818\n",
      "Hoyer @ Small:\n",
      "even r = 0.78322; inc r = 0.86014, fin r = 0.86014\n",
      "Gini @ Tiny:\n",
      "even r = 0.52448; inc r = 0.70878, fin r = 0.70878\n",
      "Gini @ Small:\n",
      "even r = 0.86713; inc r = 0.89123, fin r = 0.89123\n",
      "Per @ Tiny:\n",
      "even r = -0.44056; inc r = -0.76923, fin r = -0.76923\n",
      "Per @ Small:\n",
      "even r = 0.01399; inc r = -0.96503, fin r = -0.96503\n",
      "Norm @ Tiny:\n",
      "even r = 0.46154; inc r = 0.97902, fin r = 0.97902\n",
      "Norm @ Small:\n",
      "even r = 0.53147; inc r = 0.97723, fin r = 0.97723\n",
      "Condition_Number @ Tiny:\n",
      "even r = -0.39161; inc r = 0.74825, fin r = 0.74825\n",
      "Condition_Number @ Small:\n",
      "even r = 0.74126; inc r = 0.96503, fin r = 0.96503\n"
     ]
    }
   ],
   "source": [
    "for metr_name in (\"hoyer\", \"gini\", \"per\", \"norm\", \"condition_number\"):\n",
    "    for model_size in (\"tiny\", \"small\"):\n",
    "        metrstr = f\"{metr_name}_val/_forward_module.module.layers.{{}}.ov_circuit.base.weights\"\n",
    "        metr = get_across_ranges(\n",
    "            small_lora_weights if model_size == \"small\" else tiny_lora_weights, metrstr, step_mod=2_000\n",
    "        ).T\n",
    "\n",
    "        fst = metr[:, 0]\n",
    "        lst = metr[:, -1]\n",
    "\n",
    "        evenness = evenness_metric(metr)\n",
    "\n",
    "        # print(np.argmax(cv), np.argmin(cv))\n",
    "        a = np.arange(12)\n",
    "        even_r = stats.spearmanr(evenness, a).statistic\n",
    "\n",
    "        inc_r = stats.spearmanr(lst - fst / fst, a).statistic\n",
    "        fin_r = stats.spearmanr(lst, a).statistic\n",
    "\n",
    "        print(f\"{metr_name.title()} @ {model_size.title()}:\")\n",
    "        print(f\"even r = {even_r:.5f}; inc r = {inc_r:.5f}, fin r = {fin_r:.5f}\")"
   ]
  }
 ],
 "metadata": {
  "kernelspec": {
   "display_name": ".venv",
   "language": "python",
   "name": "python3"
  },
  "language_info": {
   "codemirror_mode": {
    "name": "ipython",
    "version": 3
   },
   "file_extension": ".py",
   "mimetype": "text/x-python",
   "name": "python",
   "nbconvert_exporter": "python",
   "pygments_lexer": "ipython3",
   "version": "3.12.10"
  }
 },
 "nbformat": 4,
 "nbformat_minor": 5
}
