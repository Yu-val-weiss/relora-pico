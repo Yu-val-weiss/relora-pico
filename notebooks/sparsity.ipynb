{
 "cells": [
  {
   "cell_type": "code",
   "execution_count": 13,
   "id": "71fc952f",
   "metadata": {},
   "outputs": [],
   "source": [
    "from collections import defaultdict\n",
    "from itertools import product\n",
    "\n",
    "import numpy as np\n",
    "import pandas as pd\n",
    "from scipy import interpolate as interpolate\n",
    "from scipy import stats as stats\n",
    "\n",
    "import wandb\n",
    "\n",
    "wandb.login()\n",
    "api = wandb.Api()"
   ]
  },
  {
   "cell_type": "code",
   "execution_count": 4,
   "id": "3786b997",
   "metadata": {},
   "outputs": [],
   "source": [
    "tiny_lora_weights = pd.DataFrame(api.run(\"pico-lm/pico-relora/ixdq4sof\").scan_history())\n",
    "small_lora_weights = pd.DataFrame(api.run(\"pico-lm/pico-relora/a8nvp3mi\").scan_history())\n",
    "baseline_tiny_weights = pd.DataFrame(api.run(\"pico-lm/pico-relora/e8rwqdwk\").scan_history())\n",
    "baseline_small_weights = pd.DataFrame(api.run(\"pico-lm/pico-relora/evrk6fbj\").scan_history())"
   ]
  },
  {
   "cell_type": "code",
   "execution_count": 5,
   "id": "54e071a1",
   "metadata": {},
   "outputs": [],
   "source": [
    "weights = {\n",
    "    \"base\": {\"tiny\": baseline_tiny_weights, \"small\": baseline_small_weights},\n",
    "    \"relora\": {\"tiny\": tiny_lora_weights, \"small\": small_lora_weights},\n",
    "}"
   ]
  },
  {
   "cell_type": "code",
   "execution_count": 6,
   "id": "7db3cf35",
   "metadata": {},
   "outputs": [],
   "source": [
    "def get_across_ranges(df: pd.DataFrame, metric_name: str, step_mod: int = 1, *ranges):\n",
    "    if not ranges:\n",
    "        ranges = (range(12),)\n",
    "    combos = product(*ranges)\n",
    "    mask = df[\"_step\"] % step_mod == 0\n",
    "    df = df[mask]\n",
    "    x = [df[metric_name.format(*combo)].replace(\"NaN\", np.nan).to_numpy() for combo in combos]\n",
    "    return np.column_stack(x)"
   ]
  },
  {
   "cell_type": "markdown",
   "id": "3ebc51a7",
   "metadata": {},
   "source": [
    "# Sparsity"
   ]
  },
  {
   "cell_type": "code",
   "execution_count": 7,
   "id": "314af664",
   "metadata": {},
   "outputs": [
    {
     "name": "stdout",
     "output_type": "stream",
     "text": [
      "Hoyer @ Tiny: r = 0.81818\n",
      "Hoyer @ Small: r = 0.86014\n",
      "Gini @ Tiny: r = 0.70878\n",
      "Gini @ Small: r = 0.89123\n"
     ]
    }
   ],
   "source": [
    "for met in (\"hoyer\", \"gini\"):\n",
    "    for scale in (\"tiny\", \"small\"):\n",
    "        metrstr = f\"{met}_val/_forward_module.module.layers.{{}}.ov_circuit.base.weights\"\n",
    "        x = get_across_ranges(\n",
    "            small_lora_weights if scale == \"small\" else tiny_lora_weights, metrstr, step_mod=20_000\n",
    "        ).T\n",
    "\n",
    "        r = stats.spearmanr(x[:, 1], np.arange(12)).statistic\n",
    "        print(f\"{met.title()} @ {scale.title()}: r = {r:.5f}\")"
   ]
  },
  {
   "cell_type": "markdown",
   "id": "4f8fef15",
   "metadata": {},
   "source": [
    "# Step smoothness"
   ]
  },
  {
   "cell_type": "code",
   "execution_count": 8,
   "id": "b4c7b54d",
   "metadata": {},
   "outputs": [],
   "source": [
    "def evenness_metric(x: np.ndarray):\n",
    "    diffs = np.diff(x, n=1, axis=-1)\n",
    "    diffs_sigma = np.std(diffs, axis=-1)\n",
    "    diffs_mu = np.mean(np.abs(diffs), axis=-1)\n",
    "\n",
    "    variation_coeff = diffs_sigma / (diffs_mu + 1e-10)\n",
    "\n",
    "    evenness = np.exp(-variation_coeff)\n",
    "\n",
    "    return evenness"
   ]
  },
  {
   "cell_type": "code",
   "execution_count": null,
   "id": "7bfb3654",
   "metadata": {},
   "outputs": [],
   "source": [
    "def smoothness_spline(steps: np.ndarray, y: np.ndarray):\n",
    "    if len(y.shape) > 1:\n",
    "        raise Exception(\"not implemented this way\")\n",
    "\n",
    "    # cs = interpolate.CubicSpline(steps, y)\n",
    "    x_fine = np.linspace(steps.min(), steps.max(), 1_000)\n",
    "    smooth_spline = interpolate.splrep(steps, y, s=0.1)\n",
    "    # y_smooth = interpolate.splev(x_fine, smooth_spline)\n",
    "    y_smooth_d2 = interpolate.splev(x_fine, smooth_spline, der=2)\n",
    "\n",
    "    # Metric 1: Total variation of the second derivative (curvature)\n",
    "    # Lower values indicate a smoother curve\n",
    "    total_curvature = np.sum(np.abs(np.diff(y_smooth_d2)))\n",
    "\n",
    "    # Metric 2: Mean squared second derivative\n",
    "    # This is related to the bending energy of the curve\n",
    "    bending_energy = np.mean(y_smooth_d2**2)\n",
    "\n",
    "    # Metric 3: Maximum absolute second derivative\n",
    "    # Indicates the maximum curvature\n",
    "    max_curvature = np.max(np.abs(y_smooth_d2))\n",
    "\n",
    "    # print(f\"total curve: {total_curvature}\")\n",
    "    # print(f\"bending energy: {bending_energy}\")\n",
    "    # print(f\"max curve: {max_curvature}\")\n",
    "\n",
    "    return (total_curvature, bending_energy, max_curvature)"
   ]
  },
  {
   "cell_type": "code",
   "execution_count": 16,
   "id": "8170aad4",
   "metadata": {},
   "outputs": [
    {
     "name": "stdout",
     "output_type": "stream",
     "text": [
      "Base\n",
      "Hoyer @ Tiny:\n",
      "average sparsity: 0.23147462099296437\n",
      "fin_r: 0.95105\n",
      "Hoyer @ Small:\n",
      "average sparsity: 0.24120502327062546\n",
      "fin_r: 0.81818\n",
      "Gini @ Tiny:\n",
      "average sparsity: 0.4318033854166667\n",
      "fin_r: 0.95608\n",
      "Gini @ Small:\n",
      "average sparsity: 0.4353841145833333\n",
      "fin_r: 0.82312\n",
      "Relora\n",
      "Hoyer @ Tiny:\n",
      "average sparsity: 0.2463966064736777\n",
      "fin_r: 0.81818\n",
      "Hoyer @ Small:\n",
      "average sparsity: 0.24472922463893085\n",
      "fin_r: 0.86014\n",
      "Gini @ Tiny:\n",
      "average sparsity: 0.4427083333333333\n",
      "fin_r: 0.70878\n",
      "Gini @ Small:\n",
      "average sparsity: 0.4417317708333333\n",
      "fin_r: 0.89123\n",
      "hoyer diff: 0.0420365836907747\n",
      "gini diff: 0.008292499057670561\n"
     ]
    }
   ],
   "source": [
    "final_at_metr = defaultdict(list)\n",
    "for exp in (\"base\", \"relora\"):\n",
    "    print(exp.title())\n",
    "    for metr_name in (\n",
    "        \"hoyer\",\n",
    "        \"gini\",\n",
    "        # \"per\",\n",
    "        # \"norm\",\n",
    "        # \"condition_number\",\n",
    "    ):\n",
    "        lasts = []\n",
    "        for model_size in (\"tiny\", \"small\"):\n",
    "            metrstr = (\n",
    "                f\"{metr_name}_val/_forward_module.module.layers.{{}}.ov_circuit\"\n",
    "                f\"{'.base' if exp == 'relora' else ''}.weights\"\n",
    "            )\n",
    "\n",
    "            step_mod = 2_000 if exp == \"relora\" else 1_000\n",
    "            # step_mod = 1_000\n",
    "\n",
    "            metr = get_across_ranges(weights[exp][model_size], metrstr, step_mod=step_mod).T\n",
    "\n",
    "            steps = np.arange(0, 20_100, step_mod)\n",
    "\n",
    "            fst = metr[:, 0]\n",
    "            lst = metr[:, -1]\n",
    "\n",
    "            evenness = evenness_metric(metr)\n",
    "            # evenness = np.array([smoothness_spline(steps, row)[2] for row in metr])\n",
    "\n",
    "            # print(np.argmax(cv), np.argmin(cv))\n",
    "            a = np.arange(12)\n",
    "            # even_r = stats.spearmanr(evenness, a)\n",
    "\n",
    "            # def statistic(x, y):  # explore all possible pairings by permuting `x`\n",
    "            #     dof = len(x) - 2\n",
    "            #     rs = stats.spearmanr(x, y).statistic  # ignore pvalue\n",
    "            #     transformed = rs * np.sqrt(dof / ((rs + 1.0) * (1.0 - rs)))\n",
    "            #     return transformed\n",
    "\n",
    "            # ref = stats.permutation_test(\n",
    "            #     (evenness, a),\n",
    "            #     statistic,\n",
    "            #     alternative=\"greater\",\n",
    "            #     permutation_type=\"pairings\",\n",
    "            # )\n",
    "\n",
    "            inc_r = stats.spearmanr(lst - fst / fst, a)\n",
    "            fin_r = stats.spearmanr(lst, a)\n",
    "\n",
    "            lasts.append(lst)\n",
    "\n",
    "            print(f\"{metr_name.title()} @ {model_size.title()}:\")\n",
    "            print(f\"average sparsity: {np.mean(lst)}\")\n",
    "            print(f\"fin_r: {fin_r.statistic:.5f}\")\n",
    "\n",
    "            final_at_metr[metr_name].append(lst)\n",
    "            # print(f\"r: even = {even_r.statistic:.5f}, p: {ref.pvalue:.5f}\")\n",
    "            # print(f\"{even_r.statistic:.5f} & {ref.pvalue:.5f} \")\n",
    "\n",
    "for metr, vals in final_at_metr.items():\n",
    "    print(f\"{metr} diff: {np.mean(vals[1] - vals[0]) / np.mean(vals[0])}\")"
   ]
  }
 ],
 "metadata": {
  "kernelspec": {
   "display_name": ".venv",
   "language": "python",
   "name": "python3"
  },
  "language_info": {
   "codemirror_mode": {
    "name": "ipython",
    "version": 3
   },
   "file_extension": ".py",
   "mimetype": "text/x-python",
   "name": "python",
   "nbconvert_exporter": "python",
   "pygments_lexer": "ipython3",
   "version": "3.12.10"
  }
 },
 "nbformat": 4,
 "nbformat_minor": 5
}
