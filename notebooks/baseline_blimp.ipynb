{
 "cells": [
  {
   "cell_type": "code",
   "execution_count": null,
   "id": "cc57531c",
   "metadata": {},
   "outputs": [],
   "source": [
    "# Install GitPython if it's not already installed\n",
    "%pip install --quiet GitPython"
   ]
  },
  {
   "cell_type": "code",
   "execution_count": null,
   "id": "a9045f07",
   "metadata": {},
   "outputs": [],
   "source": [
    "import json\n",
    "from pathlib import Path\n",
    "\n",
    "import evaluate\n",
    "import git\n",
    "from IPython.display import clear_output"
   ]
  },
  {
   "cell_type": "code",
   "execution_count": null,
   "id": "07688632",
   "metadata": {},
   "outputs": [],
   "source": [
    "repo_path = Path(\"pico-decoder-tiny\")\n",
    "\n",
    "# Define the repo details\n",
    "repo_url = \"https://huggingface.co/pico-lm/pico-decoder-tiny\"\n",
    "branch_name = \"pico-decoder-tiny-1\"\n",
    "\n",
    "# Check if the repo directory already exists\n",
    "if not repo_path.exists():\n",
    "    # Clone the specific branch\n",
    "    repo = git.Repo.clone_from(repo_url, repo_path, branch=branch_name)\n",
    "    print(f\"Cloned branch '{branch_name}' to '{repo_path}'\")\n",
    "\n",
    "    gitignore = repo_path / \".gitignore\"\n",
    "    with gitignore.open(\"w\") as f:\n",
    "        f.write(\"*\\n\")\n",
    "\n",
    "else:\n",
    "    repo = git.Repo(repo_path)\n",
    "    print(f\"Directory '{repo_path}' already exists. Skipping clone, but checking out.\")\n",
    "    repo.git.checkout(branch_name)"
   ]
  },
  {
   "cell_type": "code",
   "execution_count": null,
   "id": "d2804d2f",
   "metadata": {},
   "outputs": [],
   "source": [
    "def get_step(commit: git.Commit):\n",
    "    return int(commit.message.lower().split(\"step \")[1])"
   ]
  },
  {
   "cell_type": "code",
   "execution_count": null,
   "id": "ccb2b154",
   "metadata": {},
   "outputs": [],
   "source": [
    "def blimp_eval():\n",
    "    blimp = evaluate.load(\"pico-lm/blimp\")\n",
    "\n",
    "    blimp_result = blimp.compute(\n",
    "        model_id=str(\".\" / repo_path),\n",
    "        predictions=[\"*\"],\n",
    "        batch_size=16,\n",
    "        trust_remote_code=True,\n",
    "    )\n",
    "\n",
    "    return blimp_result"
   ]
  },
  {
   "cell_type": "code",
   "execution_count": null,
   "id": "eb1e27ec",
   "metadata": {},
   "outputs": [],
   "source": [
    "def checkout_commit(commit: git.Commit):\n",
    "    print(f\"checking out model.safetensors at commit: {commit.message}\")\n",
    "    target_file = \"model.safetensors\"\n",
    "    repo.git.checkout(commit.hexsha, \"--\", str(target_file))\n",
    "\n",
    "    repo.git.lfs(\"pull\")"
   ]
  },
  {
   "cell_type": "code",
   "execution_count": null,
   "id": "fdfeae59",
   "metadata": {},
   "outputs": [],
   "source": [
    "# evaluate!\n",
    "\n",
    "# note in most recent order, need to iterated reversed\n",
    "hf_commits = [commit for commit in repo.iter_commits() if \"Saving HF Model\" in commit.message]\n",
    "\n",
    "base_path = Path(\"blimp_results\")\n",
    "base_path.mkdir(exist_ok=True)\n",
    "\n",
    "for commit in reversed(hf_commits):\n",
    "    print(commit.message)\n",
    "\n",
    "    step = get_step(commit)\n",
    "    json_path = base_path / f\"step_{step}.json\"\n",
    "\n",
    "    if json_path.exists():\n",
    "        continue\n",
    "\n",
    "    checkout_commit(commit)\n",
    "\n",
    "    result = blimp_eval()\n",
    "    with json_path.open(\"w\") as f:\n",
    "        json.dump(result, f, indent=4, sort_keys=True)\n",
    "\n",
    "    clear_output()"
   ]
  }
 ],
 "metadata": {
  "kernelspec": {
   "display_name": ".venv",
   "language": "python",
   "name": "python3"
  },
  "language_info": {
   "codemirror_mode": {
    "name": "ipython",
    "version": 3
   },
   "file_extension": ".py",
   "mimetype": "text/x-python",
   "name": "python",
   "nbconvert_exporter": "python",
   "pygments_lexer": "ipython3",
   "version": "3.12.10"
  }
 },
 "nbformat": 4,
 "nbformat_minor": 5
}
